{
 "cells": [
  {
   "cell_type": "code",
   "execution_count": 5,
   "metadata": {},
   "outputs": [
    {
     "name": "stdout",
     "output_type": "stream",
     "text": [
      "Train set saved with 55913 rows.\n",
      "Test set saved with 6347 rows.\n"
     ]
    }
   ],
   "source": [
    "import pandas as pd\n",
    "\n",
    "# Load the dataset\n",
    "df = pd.read_csv('final_dataset.csv', index_col=0)\n",
    "df.loc[df['label']=='unlabeled', 'label'] = None\n",
    "# Split into train and test based on 'type' column\n",
    "test_df = df[df['type'] == 'test']\n",
    "train_df = df[df['type'] != 'test']\n",
    "\n",
    "# Save the split datasets\n",
    "test_df.to_csv('test.csv', index=False)\n",
    "train_df.to_csv('train.csv', index=False)\n",
    "\n",
    "print(f\"Train set saved with {len(train_df)} rows.\")\n",
    "print(f\"Test set saved with {len(test_df)} rows.\")\n"
   ]
  },
  {
   "cell_type": "code",
   "execution_count": null,
   "metadata": {},
   "outputs": [
    {
     "name": "stdout",
     "output_type": "stream",
     "text": [
      "Labels updated: '2' → '1' in train.csv, and NaNs handled.\n"
     ]
    }
   ],
   "source": [
    "import pandas as pd\n",
    "\n",
    "# Load the train dataset\n",
    "train_df = pd.read_csv(\"train.csv\")\n",
    "\n",
    "# Replace label '2' with '1', handle missing values, and ensure integer type\n",
    "train_df['label'] = train_df['label'].replace(2, 1)\n",
    "\n",
    "# Fill NaNs with a default value (e.g., 0 or -1), then convert to int\n",
    "train_df['label'] = train_df['label'].fillna(-1).astype(int)\n",
    "\n",
    "# Save the modified dataset\n",
    "train_df.to_csv(\"train.csv\", index=False)\n",
    "\n",
    "print(\"Labels updated: '2' → '1' in train.csv, and NaNs handled.\")\n"
   ]
  },
  {
   "cell_type": "code",
   "execution_count": 9,
   "metadata": {},
   "outputs": [
    {
     "name": "stdout",
     "output_type": "stream",
     "text": [
      "Labels updated: '2' → '1' in test.csv\n"
     ]
    }
   ],
   "source": [
    "import pandas as pd\n",
    "\n",
    "# Load the train dataset\n",
    "test_df = pd.read_csv(\"test.csv\")\n",
    "\n",
    "# Replace label '2' with '1' and ensure all labels are integers\n",
    "test_df['label'] = test_df['label'].replace(2, 1).astype(int)\n",
    "\n",
    "# Save the modified dataset\n",
    "test_df.to_csv(\"test.csv\", index=False)\n",
    "\n",
    "print(\"Labels updated: '2' → '1' in test.csv\")\n"
   ]
  }
 ],
 "metadata": {
  "kernelspec": {
   "display_name": "base",
   "language": "python",
   "name": "python3"
  },
  "language_info": {
   "codemirror_mode": {
    "name": "ipython",
    "version": 3
   },
   "file_extension": ".py",
   "mimetype": "text/x-python",
   "name": "python",
   "nbconvert_exporter": "python",
   "pygments_lexer": "ipython3",
   "version": "3.12.8"
  }
 },
 "nbformat": 4,
 "nbformat_minor": 2
}
