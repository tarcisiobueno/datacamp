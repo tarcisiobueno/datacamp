{
 "cells": [
  {
   "cell_type": "code",
   "execution_count": 1,
   "metadata": {},
   "outputs": [
    {
     "name": "stdout",
     "output_type": "stream",
     "text": [
      "Train set saved with 55913 rows.\n",
      "Test set saved with 6347 rows.\n"
     ]
    }
   ],
   "source": [
    "import pandas as pd\n",
    "\n",
    "# Load the dataset\n",
    "df = pd.read_csv('final_dataset.csv', index_col=0)\n",
    "\n",
    "# Split into train and test based on 'type' column\n",
    "test_df = df[df['type'] == 'test']\n",
    "train_df = df[df['type'] != 'test']\n",
    "\n",
    "# Save the split datasets\n",
    "test_df.to_csv('test.csv', index=False)\n",
    "train_df.to_csv('train.csv', index=False)\n",
    "\n",
    "print(f\"Train set saved with {len(train_df)} rows.\")\n",
    "print(f\"Test set saved with {len(test_df)} rows.\")\n"
   ]
  }
 ],
 "metadata": {
  "kernelspec": {
   "display_name": "base",
   "language": "python",
   "name": "python3"
  },
  "language_info": {
   "codemirror_mode": {
    "name": "ipython",
    "version": 3
   },
   "file_extension": ".py",
   "mimetype": "text/x-python",
   "name": "python",
   "nbconvert_exporter": "python",
   "pygments_lexer": "ipython3",
   "version": "3.12.8"
  }
 },
 "nbformat": 4,
 "nbformat_minor": 2
}
