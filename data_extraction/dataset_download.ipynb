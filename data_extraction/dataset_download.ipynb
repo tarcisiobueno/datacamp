{
 "cells": [
  {
   "cell_type": "code",
   "execution_count": 32,
   "metadata": {},
   "outputs": [],
   "source": [
    "import pandas as pd\n",
    "import numpy as np"
   ]
  },
  {
   "cell_type": "code",
   "execution_count": 33,
   "metadata": {},
   "outputs": [],
   "source": [
    "youtube_links = [\n",
    "    \"https://www.youtube.com/watch?v=FTWNnmymMc4\",\n",
    "    \"https://www.youtube.com/watch?v=wLn28DrSF68\",\n",
    "    \"https://www.youtube.com/watch?v=Tod1s6xlTEI\",\n",
    "    \"https://www.youtube.com/watch?v=iKsZGZZVWko\",\n",
    "    \"https://www.youtube.com/watch?v=Ia4I-S4TjqE\",\n",
    "    \"https://www.youtube.com/watch?v=iRgp8oBiAmw\",\n",
    "    \"https://www.youtube.com/watch?v=JCnvVaXEh3Y\",\n",
    "    \"https://www.youtube.com/watch?v=MTBRJjFmHhI\",\n",
    "    \"https://www.youtube.com/watch?v=VMHCyzTP4oE\",\n",
    "    \"https://www.youtube.com/watch?v=EMpaw46kr2w\",\n",
    "    \"https://www.youtube.com/watch?v=eJHm03osbHc\",\n",
    "    \"https://www.youtube.com/watch?v=zMNAos1hotI\",\n",
    "    \"https://www.youtube.com/watch?v=aTWaXjYdUVA\",\n",
    "    \"https://www.youtube.com/watch?v=Mig7HzQdpjg\",\n",
    "    \"https://www.youtube.com/watch?v=D8hZ_sZLizg\",\n",
    "    \"https://www.youtube.com/watch?v=bLWLb0RM7HQ\"\n",
    "]"
   ]
  },
  {
   "cell_type": "code",
   "execution_count": 34,
   "metadata": {},
   "outputs": [],
   "source": [
    "from itertools import islice\n",
    "from youtube_comment_downloader import *\n",
    "\n",
    "with open(f\"downloaded_datasets/comments.txt\", \"w\", encoding=\"utf-8\") as f:    \n",
    "    for i, url in enumerate(youtube_links):    \n",
    "        downloader = YoutubeCommentDownloader()\n",
    "        comments = downloader.get_comments_from_url(url, sort_by=SORT_BY_POPULAR)    \n",
    "        for comment in islice(comments, 2000):\n",
    "            cleaned_comment = comment[\"text\"].replace(\"\\n\",' ')\n",
    "            if len(cleaned_comment.split(' ')) > 10:\n",
    "                f.write(cleaned_comment + '\\n')"
   ]
  }
 ],
 "metadata": {
  "kernelspec": {
   "display_name": "datacamp",
   "language": "python",
   "name": "python3"
  },
  "language_info": {
   "codemirror_mode": {
    "name": "ipython",
    "version": 3
   },
   "file_extension": ".py",
   "mimetype": "text/x-python",
   "name": "python",
   "nbconvert_exporter": "python",
   "pygments_lexer": "ipython3",
   "version": "3.12.9"
  }
 },
 "nbformat": 4,
 "nbformat_minor": 2
}
