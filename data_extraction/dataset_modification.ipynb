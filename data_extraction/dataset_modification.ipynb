{
 "cells": [
  {
   "cell_type": "code",
   "execution_count": 32,
   "metadata": {},
   "outputs": [],
   "source": [
    "import pandas as pd\n",
    "import numpy as np"
   ]
  },
  {
   "cell_type": "code",
   "execution_count": 33,
   "metadata": {},
   "outputs": [],
   "source": [
    "with open(\"datasets/train_text.txt\", \"r\", encoding=\"utf-8\") as f:\n",
    "    train_lines = f.readlines()\n",
    "with open(\"datasets/train_labels.txt\", \"r\", encoding=\"utf-8\") as f:\n",
    "    train_labels = f.readlines()\n",
    "\n",
    "with open(\"datasets/val_text.txt\", \"r\", encoding=\"utf-8\") as f:\n",
    "    val_lines = f.readlines()\n",
    "with open(\"datasets/val_labels.txt\", \"r\", encoding=\"utf-8\") as f:\n",
    "    val_labels = f.readlines()\n",
    "\n",
    "with open(\"datasets/test_text.txt\", \"r\", encoding=\"utf-8\") as f:\n",
    "    test_lines = f.readlines()\n",
    "with open(\"datasets/test_labels.txt\", \"r\", encoding=\"utf-8\") as f:\n",
    "    test_labels = f.readlines()"
   ]
  },
  {
   "cell_type": "code",
   "execution_count": 73,
   "metadata": {},
   "outputs": [],
   "source": [
    "# Create dataframes\n",
    "train_df = pd.DataFrame({'text': train_lines, 'type': 'train','label': train_labels})\n",
    "val_df = pd.DataFrame({'text': val_lines, 'type': 'val', 'label': val_labels})\n",
    "test_df = pd.DataFrame({'text': test_lines, 'type': 'test', 'label': test_labels})"
   ]
  },
  {
   "cell_type": "code",
   "execution_count": 77,
   "metadata": {},
   "outputs": [],
   "source": [
    "with open(\"downloaded_datasets/comments.txt\", \"r\", encoding=\"utf-8\") as f:\n",
    "    new_lines = [next(f) for _ in range(15000)]\n",
    "\n",
    "downloaded_df = pd.DataFrame({'text': new_lines, 'type': 'downloaded', 'label':'unlabeled'})"
   ]
  },
  {
   "cell_type": "code",
   "execution_count": 78,
   "metadata": {},
   "outputs": [],
   "source": [
    "# Combine dataframes\n",
    "df = pd.concat([train_df, val_df, test_df, downloaded_df], ignore_index=True)"
   ]
  },
  {
   "cell_type": "code",
   "execution_count": 80,
   "metadata": {},
   "outputs": [],
   "source": [
    "df.to_csv(\"modified_datasets/combined_dataset.csv\", index=False)"
   ]
  }
 ],
 "metadata": {
  "kernelspec": {
   "display_name": "datacamp",
   "language": "python",
   "name": "python3"
  },
  "language_info": {
   "codemirror_mode": {
    "name": "ipython",
    "version": 3
   },
   "file_extension": ".py",
   "mimetype": "text/x-python",
   "name": "python",
   "nbconvert_exporter": "python",
   "pygments_lexer": "ipython3",
   "version": "3.12.9"
  }
 },
 "nbformat": 4,
 "nbformat_minor": 2
}
