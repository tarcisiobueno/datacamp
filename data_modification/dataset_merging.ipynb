{
 "cells": [
  {
   "cell_type": "code",
   "execution_count": 4,
   "metadata": {},
   "outputs": [
    {
     "name": "stdout",
     "output_type": "stream",
     "text": [
      "                                                text   type  label\n",
      "0  \"QT @user In the original draft of the 7th boo...  train  2\\r\\n\n",
      "1  \"Ben Smith / Smith (concussion) remains out of...  train  1\\r\\n\n",
      "2  Sorry bout the stream last night I crashed out...  train  1\\r\\n\n",
      "3  Chase Headley's RBI double in the 8th inning o...  train  1\\r\\n\n",
      "4  @user Alciato: Bee will invest 150 million in ...  train  2\\r\\n\n",
      "Merged 15000 JSON posts with 74899 CSV rows. Final dataset saved as final_combined_dataset.csv.\n"
     ]
    }
   ],
   "source": [
    "import json\n",
    "import pandas as pd\n",
    "\n",
    "json_file = \"merged_posts.json\" \n",
    "csv_file = r\"C:\\Users\\giova\\datacamp\\modified_datasets\\combined_dataset.csv\"  # CSV file path\n",
    "output_file = \"final_combined_dataset.csv\"  # Output file\n",
    "with open(json_file, \"r\", encoding=\"utf-8\") as f:\n",
    "    json_data = json.load(f)\n",
    "\n",
    "df_json = pd.DataFrame(json_data)[['text']]\n",
    "df_json['type'] = \"downloaded\"\n",
    "df_json['label'] = \"unlabeled\"\n",
    "df_json = df_json.head(15000) \n",
    "\n",
    "df_csv = pd.read_csv(csv_file, delimiter=',', encoding='utf-8')\n",
    "df_combined = pd.concat([df_csv, df_json], ignore_index=True)\n",
    "\n",
    "df_combined.to_csv(output_file, index=False)\n",
    "\n",
    "# Display first few rows\n",
    "print(df_combined.head())\n",
    "print(f\"Merged {len(df_json)} JSON posts with {len(df_csv)} CSV rows. Final dataset saved as {output_file}.\")\n"
   ]
  }
 ],
 "metadata": {
  "kernelspec": {
   "display_name": "Python 3",
   "language": "python",
   "name": "python3"
  },
  "language_info": {
   "codemirror_mode": {
    "name": "ipython",
    "version": 3
   },
   "file_extension": ".py",
   "mimetype": "text/x-python",
   "name": "python",
   "nbconvert_exporter": "python",
   "pygments_lexer": "ipython3",
   "version": "3.10.11"
  }
 },
 "nbformat": 4,
 "nbformat_minor": 2
}
