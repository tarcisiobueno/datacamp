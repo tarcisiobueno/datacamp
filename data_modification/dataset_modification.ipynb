{
 "cells": [
  {
   "cell_type": "code",
   "execution_count": 25,
   "metadata": {},
   "outputs": [],
   "source": [
    "import pandas as pd\n",
    "import numpy as np\n",
    "import matplotlib.pyplot as plt\n",
    "import seaborn as sns"
   ]
  },
  {
   "cell_type": "code",
   "execution_count": 2,
   "metadata": {},
   "outputs": [],
   "source": [
    "with open(\"../datasets/train_text.txt\", \"r\", encoding=\"utf-8\") as f:\n",
    "    train_lines = f.readlines()\n",
    "with open(\"../datasets/train_labels.txt\", \"r\", encoding=\"utf-8\") as f:\n",
    "    train_labels = f.readlines()\n",
    "\n",
    "with open(\"../datasets/val_text.txt\", \"r\", encoding=\"utf-8\") as f:\n",
    "    val_lines = f.readlines()\n",
    "with open(\"../datasets/val_labels.txt\", \"r\", encoding=\"utf-8\") as f:\n",
    "    val_labels = f.readlines()\n",
    "\n",
    "with open(\"../datasets/test_text.txt\", \"r\", encoding=\"utf-8\") as f:\n",
    "    test_lines = f.readlines()\n",
    "with open(\"../datasets/test_labels.txt\", \"r\", encoding=\"utf-8\") as f:\n",
    "    test_labels = f.readlines()"
   ]
  },
  {
   "cell_type": "code",
   "execution_count": 3,
   "metadata": {},
   "outputs": [],
   "source": [
    "# Create dataframes\n",
    "train_df = pd.DataFrame({'text': train_lines, 'type': 'train','label': train_labels})\n",
    "val_df = pd.DataFrame({'text': val_lines, 'type': 'val', 'label': val_labels})\n",
    "test_df = pd.DataFrame({'text': test_lines, 'type': 'test', 'label': test_labels})"
   ]
  },
  {
   "cell_type": "code",
   "execution_count": 4,
   "metadata": {},
   "outputs": [],
   "source": [
    "with open(\"../downloaded_datasets/comments.txt\", \"r\", encoding=\"utf-8\") as f:\n",
    "    new_lines = [next(f) for _ in range(15000)]\n",
    "\n",
    "downloaded_df = pd.DataFrame({'text': new_lines, 'type': 'downloaded', 'label':'unlabeled'})"
   ]
  },
  {
   "cell_type": "code",
   "execution_count": 5,
   "metadata": {},
   "outputs": [],
   "source": [
    "# Combine dataframes\n",
    "df = pd.concat([train_df, val_df, test_df, downloaded_df], ignore_index=True)"
   ]
  },
  {
   "cell_type": "code",
   "execution_count": 6,
   "metadata": {},
   "outputs": [],
   "source": [
    "#df.to_csv(\"modified_datasets/combined_dataset.csv\", index=False)"
   ]
  },
  {
   "cell_type": "markdown",
   "metadata": {},
   "source": [
    "# PU Learning dataset\n",
    "\n",
    "The code processes a dataset for Positive-Unlabeled (PU) Learning by refining labels and categorizing data based on source and usage. It begins by loading a dataset and cleaning the labels. It then filters the data to retain only relevant labels and prints statistics about specific subsets. The dataset is split into training and testing sets, and all instances labeled as \"1\" are removed. To introduce unlabeled data, a fraction of both positive and negative samples is randomly selected and relabeled as \"unlabeled,\" with their indices saved for reference. The dataset is further refined by categorizing samples based on their labeling source—human-labeled, LLM-labeled, or unlabeled. Finally, the modified training and test sets are combined to form the final dataset."
   ]
  },
  {
   "cell_type": "code",
   "execution_count": 35,
   "metadata": {},
   "outputs": [
    {
     "name": "stdout",
     "output_type": "stream",
     "text": [
      "(116,)\n",
      "(419,)\n",
      "(5421,)\n",
      "label\n",
      "unlabeled    24000\n",
      "2             5421\n",
      "0              419\n",
      "1              116\n",
      "Name: count, dtype: int64\n"
     ]
    }
   ],
   "source": [
    "df_gen = pd.read_csv('../modified_datasets/dataset_with_generated_labels.csv')\n",
    "df_gen[\"label\"] = df_gen[\"label\"].apply(lambda x: x.replace(\"\\n\", \"\"))\n",
    "df_gen[\"label\"].value_counts()\n",
    "\n",
    "# Filter the DataFrame to keep only rows with labels \"1\", \"0\", or \"2\"\n",
    "df_gen = df_gen[df_gen[\"label\"].isin([\"1\", \"0\", \"2\", \"unlabeled\"])]\n",
    "\n",
    "print(df_gen[(df_gen[\"type\"]==\"downloaded\") & (df_gen[\"label\"]==\"1\")][\"label\"].shape)\n",
    "print(df_gen[(df_gen[\"type\"]==\"downloaded\") & (df_gen[\"label\"]==\"0\")][\"label\"].shape)\n",
    "print(df_gen[(df_gen[\"type\"]==\"downloaded\") & (df_gen[\"label\"]==\"2\")][\"label\"].shape)\n",
    "print(df_gen[(df_gen[\"type\"]==\"downloaded\")][\"label\"].value_counts())"
   ]
  },
  {
   "cell_type": "code",
   "execution_count": 36,
   "metadata": {},
   "outputs": [],
   "source": [
    "df_train = df_gen[(df_gen[\"type\"] == \"train\") | (df_gen[\"type\"] == \"val\") | (df_gen[\"type\"] == \"downloaded\")]\n",
    "df_test = df_gen[(df_gen[\"type\"] == \"test\")]"
   ]
  },
  {
   "cell_type": "code",
   "execution_count": 37,
   "metadata": {},
   "outputs": [],
   "source": [
    "# Filter out rows with label '1'\n",
    "df_train = df_train[df_train[\"label\"] != '1']\n",
    "df_test = df_test[df_test[\"label\"] != '1']\n",
    "\n",
    "# Sample 10% of the positive indices to be turned into unlabeled\n",
    "positive_indices_to_be_unlabeled = df_train[df_train[\"label\"] == '2'].sample(frac=0.1, random_state=42).index\n",
    "\n",
    "# Sample 85% of the negative indices to be turned into unlabeled\n",
    "negative_indices_to_be_unlabeled = df_train[df_train[\"label\"] == '0'].sample(frac=0.85, random_state=42).index\n",
    "\n",
    "# Save the indices of the positive samples turned unlabeled to a file\n",
    "with open('positive_samples_turned_unlabeled.txt', 'w') as f:\n",
    "    for index in positive_indices_to_be_unlabeled:\n",
    "        f.write(str(index) + '\\n')\n",
    "\n",
    "# Save the indices of the negative samples turned unlabeled to a file\n",
    "with open('negative_samples_turned_unlabeled.txt', 'w') as f:\n",
    "    for index in negative_indices_to_be_unlabeled:\n",
    "        f.write(str(index) + '\\n')\n",
    "\n",
    "# Update the label of the sampled positive indices to 'unlabeled'\n",
    "df_train.loc[positive_indices_to_be_unlabeled, \"label\"] = \"unlabeled\"\n",
    "\n",
    "# Update the label of the sampled negative indices to 'unlabeled'\n",
    "df_train.loc[negative_indices_to_be_unlabeled, \"label\"] = \"unlabeled\""
   ]
  },
  {
   "cell_type": "code",
   "execution_count": 38,
   "metadata": {},
   "outputs": [
    {
     "data": {
      "text/plain": [
       "type\n",
       "unlabeled    33059\n",
       "human        17931\n",
       "llm           4923\n",
       "Name: count, dtype: int64"
      ]
     },
     "execution_count": 38,
     "metadata": {},
     "output_type": "execute_result"
    }
   ],
   "source": [
    "# label types\n",
    "\n",
    "# Correct the masks\n",
    "mask_human_labeled = (df_train[\"type\"].isin([\"val\", \"train\"])) & (df_train[\"label\"].isin([\"0\", \"2\"]))\n",
    "mask_llm_labeled = (df_train[\"type\"] == \"downloaded\") & (df_train[\"label\"].isin([\"0\",\"2\"]))\n",
    "mask_unlabeled = ~(mask_human_labeled | mask_llm_labeled)\n",
    "\n",
    "# Apply the masks to update the \"type\" column\n",
    "df_train.loc[mask_human_labeled, \"type\"] = \"human\"\n",
    "df_train.loc[mask_llm_labeled, \"type\"] = \"llm\"\n",
    "df_train.loc[mask_unlabeled, \"type\"] = \"unlabeled\"\n",
    "\n",
    "# Display the value counts for the \"type\" column\n",
    "df_train[\"type\"].value_counts()"
   ]
  },
  {
   "cell_type": "code",
   "execution_count": 40,
   "metadata": {},
   "outputs": [],
   "source": [
    "final_dataset_with_generated_labels = pd.concat([df_train, df_test])"
   ]
  },
  {
   "cell_type": "code",
   "execution_count": 43,
   "metadata": {},
   "outputs": [
    {
     "name": "stdout",
     "output_type": "stream",
     "text": [
      "LLM labeled value counts:\n",
      "label\n",
      "2    4864\n",
      "0      59\n",
      "Name: count, dtype: int64\n",
      "\n",
      "Human labeled value counts:\n",
      "label\n",
      "2    16816\n",
      "0     1115\n",
      "Name: count, dtype: int64\n",
      "\n",
      "Unlabeled value counts:\n",
      "label\n",
      "unlabeled    33059\n",
      "Name: count, dtype: int64\n",
      "\n",
      "Dataset description:\n",
      "         text       type      label\n",
      "count   61578      62260      62260\n",
      "unique  61104          4          3\n",
      "top        \\n  unlabeled  unlabeled\n",
      "freq       78      33059      33059\n"
     ]
    },
    {
     "data": {
      "image/png": "[encoded data removed]",
      "text/plain": [
       "<Figure size 800x400 with 1 Axes>"
      ]
     },
     "metadata": {},
     "output_type": "display_data"
    },
    {
     "data": {
      "image/png": "[encoded data removed]",
      "text/plain": [
       "<Figure size 800x400 with 1 Axes>"
      ]
     },
     "metadata": {},
     "output_type": "display_data"
    },
    {
     "data": {
      "image/png": "[encoded data removed]",
      "text/plain": [
       "<Figure size 800x400 with 1 Axes>"
      ]
     },
     "metadata": {},
     "output_type": "display_data"
    },
    {
     "data": {
      "image/png": "[encoded data removed]",
      "text/plain": [
       "<Figure size 800x400 with 1 Axes>"
      ]
     },
     "metadata": {},
     "output_type": "display_data"
    },
    {
     "data": {
      "image/png": "[encoded data removed]",
      "text/plain": [
       "<Figure size 800x400 with 1 Axes>"
      ]
     },
     "metadata": {},
     "output_type": "display_data"
    },
    {
     "name": "stdout",
     "output_type": "stream",
     "text": [
      "\n",
      "First few rows of the dataset:\n",
      "                                                text       type      label\n",
      "0  \"QT @user In the original draft of the 7th boo...      human          2\n",
      "4  @user Alciato: Bee will invest 150 million in ...      human          2\n",
      "5  @user LIT MY MUM 'Kerry the louboutins I wonde...      human          2\n",
      "6  \"\\\"\"\"\" SOUL TRAIN\\\"\"\"\" OCT 27 HALLOWEEN SPECIA...      human          2\n",
      "7  So disappointed in wwe summerslam! I want to s...  unlabeled  unlabeled\n"
     ]
    }
   ],
   "source": [
    "# Print value counts for each type and label combination\n",
    "print(\"LLM labeled value counts:\")\n",
    "print(final_dataset_with_generated_labels[final_dataset_with_generated_labels[\"type\"] == \"llm\"][\"label\"].value_counts())\n",
    "print(\"\\nHuman labeled value counts:\")\n",
    "print(final_dataset_with_generated_labels[final_dataset_with_generated_labels[\"type\"] == \"human\"][\"label\"].value_counts())\n",
    "print(\"\\nUnlabeled value counts:\")\n",
    "print(final_dataset_with_generated_labels[final_dataset_with_generated_labels[\"type\"] == \"unlabeled\"][\"label\"].value_counts())\n",
    "\n",
    "# Describe the dataset\n",
    "print(\"\\nDataset description:\")\n",
    "print(final_dataset_with_generated_labels.describe())\n",
    "\n",
    "\n",
    "# Plot the distribution of types\n",
    "plt.figure(figsize=(8, 4))\n",
    "sns.countplot(data=final_dataset_with_generated_labels, x=\"type\")\n",
    "plt.title(\"Distribution of Types\")\n",
    "plt.xlabel(\"Type\")\n",
    "plt.ylabel(\"Count\")\n",
    "plt.show()\n",
    "\n",
    "# Plot the distribution of labels\n",
    "plt.figure(figsize=(8, 4))\n",
    "sns.countplot(data=final_dataset_with_generated_labels, x=\"label\")\n",
    "plt.title(\"Distribution of Labels\")\n",
    "plt.xlabel(\"Label\")\n",
    "plt.ylabel(\"Count\")\n",
    "plt.show()\n",
    "\n",
    "# Plot the distribution of labels - human\n",
    "plt.figure(figsize=(8, 4))\n",
    "sns.countplot(data=final_dataset_with_generated_labels[final_dataset_with_generated_labels[\"type\"]==\"human\"], x=\"label\")\n",
    "plt.title(\"Distribution of Labels - human labeled\")\n",
    "plt.xlabel(\"Label\")\n",
    "plt.ylabel(\"Count\")\n",
    "plt.show()\n",
    "\n",
    "# Plot the distribution of labels - llm\n",
    "plt.figure(figsize=(8, 4))\n",
    "sns.countplot(data=final_dataset_with_generated_labels[final_dataset_with_generated_labels[\"type\"]==\"llm\"], x=\"label\")\n",
    "plt.title(\"Distribution of Labels - llm labeled\")\n",
    "plt.xlabel(\"Label\")\n",
    "plt.ylabel(\"Count\")\n",
    "plt.show()\n",
    "\n",
    "# Plot the distribution of labels - test\n",
    "plt.figure(figsize=(8, 4))\n",
    "sns.countplot(data=final_dataset_with_generated_labels[final_dataset_with_generated_labels[\"type\"]==\"test\"], x=\"label\")\n",
    "plt.title(\"Distribution of Labels - test\")\n",
    "plt.xlabel(\"Label\")\n",
    "plt.ylabel(\"Count\")\n",
    "plt.show()\n",
    "\n",
    "\n",
    "# Display the first few rows of the dataset\n",
    "print(\"\\nFirst few rows of the dataset:\")\n",
    "print(final_dataset_with_generated_labels.head())"
   ]
  },
  {
   "cell_type": "code",
   "execution_count": 44,
   "metadata": {},
   "outputs": [],
   "source": [
    "final_dataset_with_generated_labels.to_csv(\"../modified_datasets/final_dataset.csv\")"
   ]
  },
  {
   "cell_type": "code",
   "execution_count": 45,
   "metadata": {},
   "outputs": [
    {
     "data": {
      "application/vnd.microsoft.datawrangler.viewer.v0+json": {
       "columns": [
        {
         "name": "index",
         "rawType": "int64",
         "type": "integer"
        },
        {
         "name": "text",
         "rawType": "object",
         "type": "unknown"
        },
        {
         "name": "type",
         "rawType": "object",
         "type": "string"
        },
        {
         "name": "label",
         "rawType": "object",
         "type": "string"
        }
       ],
       "conversionMethod": "pd.DataFrame",
       "ref": "e388d126-2390-4fc8-974b-05221a74556c",
       "rows": [
        [
         "0",
         "\"QT @user In the original draft of the 7th book, Remus Lupin survived the Battle of Hogwarts. #HappyBirthdayRemusLupin\" \n",
         "human",
         "2"
        ],
        [
         "4",
         "@user Alciato: Bee will invest 150 million in January, another 200 in the Summer and plans to bring Messi by 2017\" \n",
         "human",
         "2"
        ],
        [
         "5",
         "@user LIT MY MUM 'Kerry the louboutins I wonder how many Willam owns!!! Look Kerry Warner Wednesday!' \n",
         "human",
         "2"
        ],
        [
         "6",
         "\"\\\"\"\"\" SOUL TRAIN\\\"\"\"\" OCT 27 HALLOWEEN SPECIAL ft T.dot FINEST rocking the mic...CRAZY CACTUS NIGHT CLUB ..ADV ticket $10 wt out costume $15...\" \n",
         "human",
         "2"
        ],
        [
         "7",
         "So disappointed in wwe summerslam! I want to see john cena wins his 16th title \n",
         "unlabeled",
         "unlabeled"
        ],
        [
         "8",
         "\"This is the last Sunday w/o football .....,NFL is back baby\" \n",
         "human",
         "2"
        ],
        [
         "12",
         "Super excited for homecoming Saturday with Monroe! :D my new nephew is here but I can\\u2019t see him :( \n",
         "human",
         "2"
        ],
        [
         "13",
         "That sucks if you have to take the SATs tomorrow \n",
         "unlabeled",
         "unlabeled"
        ],
        [
         "16",
         "Creighton Volleyball leads 8-5 early in 2nd set. Match becomes even bigger with both Wichita St. & Missouri State down 0-1 at home tonight. \n",
         "human",
         "2"
        ],
        [
         "17",
         "This time tomorrow...we'll have the Iron on. Iron Maiden pieces Drops tomorrow nights. \n",
         "human",
         "2"
        ],
        [
         "18",
         "Amy Schumer sat down with The Hollywood Reporter and opened up about the sexist remarks and unnecessary criticism she's faced since \n",
         "unlabeled",
         "unlabeled"
        ],
        [
         "21",
         "Reminder: Samsung Unveils the Galaxy Note 5 and S6 Edge+ Tomorrow Morning! - - #tech #news... \n",
         "human",
         "2"
        ],
        [
         "27",
         "Yes glass of red\\u002c Rammstein and day off tomorrow (thank you @user just what I needed. \n",
         "human",
         "2"
        ],
        [
         "28",
         "Vampettes we are back on the 21st place keep tweeting with the hashtag #MTVStars The Vamps #MTVStarsOf2015 \n",
         "human",
         "2"
        ],
        [
         "31",
         "Looking forward to going to Carrow Rd tonight. Last time we were there\\u002c Bale scored 2 and we were 3rd. Do not want extra time though \n",
         "human",
         "2"
        ],
        [
         "33",
         "Right guys\\u002c last competition of the night... Like this status for a chance to win a copy of Judas Priest\\u2019s 30th... \n",
         "human",
         "2"
        ],
        [
         "34",
         "We\\u2019re in the studio working on the new album and it sounds EPIC. We may as well pick up our Brit Award now\\u002c tbh. \n",
         "human",
         "2"
        ],
        [
         "37",
         "Sunday (tomorrow) is National Ice Cream Day and have we got a gift for you!   Join us for an ice cream sundae and... \n",
         "human",
         "2"
        ],
        [
         "40",
         "I may or may not buy myself the illustrated version of Harry potter for my birthday \n",
         "human",
         "2"
        ],
        [
         "41",
         "I wanna see STUDIO FOOTAGE SO BAD. We are about to hear some unreleased STUFF! Likeeeeeeeeee I can\\u2019t wait until Sunday. \n",
         "human",
         "2"
        ],
        [
         "42",
         "@user how the hell does every one else get to keep their religious and 1st amnt rights, except Christians!!! This is just wrong!!!\" \n",
         "unlabeled",
         "unlabeled"
        ],
        [
         "43",
         "A @user rule change should allow Carly Fiorina to earn a spot on the main stage for the 2nd Republican debate. \n",
         "human",
         "2"
        ],
        [
         "46",
         "\"I'm going to see Paper Towns. Saturday, 22 August 2015 at 17:40 in Leigh #Cineworld\" \n",
         "human",
         "2"
        ],
        [
         "47",
         "@user Yepo I came in Milan it was my 1st concert and it was so good you guys did an amazing job! You are flawless live like PERFECT! \n",
         "human",
         "2"
        ],
        [
         "50",
         "Thanks manager for putting me on the schedule for Sunday\" \n",
         "human",
         "0"
        ],
        [
         "51",
         "I'm sat at work just laughing at all these Hulk Hogan tweets. Hahha ffs \n",
         "human",
         "2"
        ],
        [
         "53",
         "I feel like the new Janet Jackson single is bringing back 90s R&amp;B. via @user \n",
         "human",
         "2"
        ],
        [
         "55",
         "This Friday OUTHOUSE is playing at Still Partners in Sea Cliff ! Hop on the Expressway to Nirvana! \n",
         "human",
         "2"
        ],
        [
         "59",
         "Amazon prime is literally a lie....I ordered a book LAST MONDAY &amp; it still isn't here. do better @user \n",
         "unlabeled",
         "unlabeled"
        ],
        [
         "60",
         "Who the hell moshes at Matt and Kim?? Next time watch out for my face\\u002c mofos! My cheekbones better not be purple tomorrow. @user \n",
         "unlabeled",
         "unlabeled"
        ],
        [
         "61",
         "\"What a difference not having Sterling on the pitch makes! Welbeck dragged wide 1st half, the Ox replaces Sterling, Welbeck down middle, goal\" \n",
         "human",
         "2"
        ],
        [
         "62",
         "\"Dear lovely Christians, I wish to inform you, tomorrow we got one Mass @ 10am as we'll be submitting our parish family day collection!\" \n",
         "human",
         "2"
        ],
        [
         "63",
         "\"To Kpop fans, we song along to vocals, 2nd voices, raps, fanchants, do the instruments &amp; even perform its own choreo \n",
         "human",
         "2"
        ],
        [
         "66",
         "Mario Williams is catching hell! He will be Exposed on Sunday... Not like Buffalo don't see him 4 who he is Already! \n",
         "unlabeled",
         "unlabeled"
        ],
        [
         "67",
         "\"Kris Bryant hurt, Joe Maddon ejected in today's Cubs game, and it's only the 6th inning. \n",
         "unlabeled",
         "unlabeled"
        ],
        [
         "71",
         "@user @user at da end of da night no girl that roll with me is on da MTA! They are above that as long as I can afford that! \n",
         "human",
         "2"
        ],
        [
         "73",
         "My mom's over here tryna tell me that we're taking the CAHSEE tomorrow ._. Nigga it's only the second month of school.. #SlowYourRoll \n",
         "human",
         "0"
        ],
        [
         "76",
         "Happy Birthday Nick J  May you live long and Happy :) \n",
         "human",
         "2"
        ],
        [
         "77",
         "ECHO: Sex offender is warned he may face jail over offences #Dorset \n",
         "unlabeled",
         "unlabeled"
        ],
        [
         "78",
         "I hope Bernie Sanders is a sun and the other two are shooting stars or black holes. \n",
         "human",
         "2"
        ],
        [
         "80",
         "Who else is going to the Chris brown tour this Thursday #ChrisBrown#onehellofanighttour \n",
         "unlabeled",
         "unlabeled"
        ],
        [
         "81",
         "Your inspirational quotes on twitter/Feb never really got to me. But oh damn ur pics of them on IG have truly inspired me. #idiots\" \n",
         "unlabeled",
         "unlabeled"
        ],
        [
         "82",
         "Another beauty of a day in Athens\\u002c Greece. I trust you\\u2019ll have an exceptional Friday wherever in the world you are. Much love. \n",
         "unlabeled",
         "unlabeled"
        ],
        [
         "83",
         "\"Another great night in Split, off to Hvar on the 8:30 ferry tomorrow morning... dreading the packing but excited to get there!\" \n",
         "human",
         "2"
        ],
        [
         "84",
         "@user and im seeing Ed live this Saturday at b'ham NIA! It would be amazing to get the book signed. Thanks for putting it together \n",
         "human",
         "2"
        ],
        [
         "86",
         "Q_Q Today was the day that Naruto shippuden: UNS4 was suppose to come out. WHYYYYYYY DID THEY PUSH IT ALL THE WAY TO JAN???? HELLO \n",
         "unlabeled",
         "unlabeled"
        ],
        [
         "88",
         "The audio booth is ready to blow the roof off the Comcast Center tomorrow! Are you? #MDMadness \n",
         "human",
         "2"
        ],
        [
         "89",
         "welllll who wants to see Ed Sheeran with me on the 17th???? \n",
         "unlabeled",
         "unlabeled"
        ],
        [
         "90",
         "GOALdotCOM: Premier League Team of the Week: Van Persie & Aguero both star after City & Arsenal wins \n",
         "unlabeled",
         "unlabeled"
        ],
        [
         "92",
         "I'm seeing Ed Sheeran on Wednesday in Miami so if you wanna meet up or say hi hmu! \n",
         "human",
         "2"
        ]
       ],
       "shape": {
        "columns": 3,
        "rows": 62260
       }
      },
      "text/html": [
       "<div>\n",
       "<style scoped>\n",
       "    .dataframe tbody tr th:only-of-type {\n",
       "        vertical-align: middle;\n",
       "    }\n",
       "\n",
       "    .dataframe tbody tr th {\n",
       "        vertical-align: top;\n",
       "    }\n",
       "\n",
       "    .dataframe thead th {\n",
       "        text-align: right;\n",
       "    }\n",
       "</style>\n",
       "<table border=\"1\" class=\"dataframe\">\n",
       "  <thead>\n",
       "    <tr style=\"text-align: right;\">\n",
       "      <th></th>\n",
       "      <th>text</th>\n",
       "      <th>type</th>\n",
       "      <th>label</th>\n",
       "    </tr>\n",
       "  </thead>\n",
       "  <tbody>\n",
       "    <tr>\n",
       "      <th>0</th>\n",
       "      <td>\"QT @user In the original draft of the 7th boo...</td>\n",
       "      <td>human</td>\n",
       "      <td>2</td>\n",
       "    </tr>\n",
       "    <tr>\n",
       "      <th>4</th>\n",
       "      <td>@user Alciato: Bee will invest 150 million in ...</td>\n",
       "      <td>human</td>\n",
       "      <td>2</td>\n",
       "    </tr>\n",
       "    <tr>\n",
       "      <th>5</th>\n",
       "      <td>@user LIT MY MUM 'Kerry the louboutins I wonde...</td>\n",
       "      <td>human</td>\n",
       "      <td>2</td>\n",
       "    </tr>\n",
       "    <tr>\n",
       "      <th>6</th>\n",
       "      <td>\"\\\"\"\"\" SOUL TRAIN\\\"\"\"\" OCT 27 HALLOWEEN SPECIA...</td>\n",
       "      <td>human</td>\n",
       "      <td>2</td>\n",
       "    </tr>\n",
       "    <tr>\n",
       "      <th>7</th>\n",
       "      <td>So disappointed in wwe summerslam! I want to s...</td>\n",
       "      <td>unlabeled</td>\n",
       "      <td>unlabeled</td>\n",
       "    </tr>\n",
       "    <tr>\n",
       "      <th>...</th>\n",
       "      <td>...</td>\n",
       "      <td>...</td>\n",
       "      <td>...</td>\n",
       "    </tr>\n",
       "    <tr>\n",
       "      <th>59888</th>\n",
       "      <td>@user for al the crying you do about how middl...</td>\n",
       "      <td>test</td>\n",
       "      <td>0</td>\n",
       "    </tr>\n",
       "    <tr>\n",
       "      <th>59892</th>\n",
       "      <td>i'm not even catholic, but pope francis is my ...</td>\n",
       "      <td>test</td>\n",
       "      <td>2</td>\n",
       "    </tr>\n",
       "    <tr>\n",
       "      <th>59893</th>\n",
       "      <td>@user @user @user Looks like Flynn isn't too p...</td>\n",
       "      <td>test</td>\n",
       "      <td>0</td>\n",
       "    </tr>\n",
       "    <tr>\n",
       "      <th>59897</th>\n",
       "      <td>Trying to have a conversation with my dad abou...</td>\n",
       "      <td>test</td>\n",
       "      <td>0</td>\n",
       "    </tr>\n",
       "    <tr>\n",
       "      <th>59898</th>\n",
       "      <td>@user You are a stand up guy and a Gentleman V...</td>\n",
       "      <td>test</td>\n",
       "      <td>2</td>\n",
       "    </tr>\n",
       "  </tbody>\n",
       "</table>\n",
       "<p>62260 rows × 3 columns</p>\n",
       "</div>"
      ],
      "text/plain": [
       "                                                    text       type      label\n",
       "0      \"QT @user In the original draft of the 7th boo...      human          2\n",
       "4      @user Alciato: Bee will invest 150 million in ...      human          2\n",
       "5      @user LIT MY MUM 'Kerry the louboutins I wonde...      human          2\n",
       "6      \"\\\"\"\"\" SOUL TRAIN\\\"\"\"\" OCT 27 HALLOWEEN SPECIA...      human          2\n",
       "7      So disappointed in wwe summerslam! I want to s...  unlabeled  unlabeled\n",
       "...                                                  ...        ...        ...\n",
       "59888  @user for al the crying you do about how middl...       test          0\n",
       "59892  i'm not even catholic, but pope francis is my ...       test          2\n",
       "59893  @user @user @user Looks like Flynn isn't too p...       test          0\n",
       "59897  Trying to have a conversation with my dad abou...       test          0\n",
       "59898  @user You are a stand up guy and a Gentleman V...       test          2\n",
       "\n",
       "[62260 rows x 3 columns]"
      ]
     },
     "execution_count": 45,
     "metadata": {},
     "output_type": "execute_result"
    }
   ],
   "source": [
    "final_dataset_with_generated_labels"
   ]
  }
 ],
 "metadata": {
  "kernelspec": {
   "display_name": "datacamp",
   "language": "python",
   "name": "python3"
  },
  "language_info": {
   "codemirror_mode": {
    "name": "ipython",
    "version": 3
   },
   "file_extension": ".py",
   "mimetype": "text/x-python",
   "name": "python",
   "nbconvert_exporter": "python",
   "pygments_lexer": "ipython3",
   "version": "3.12.9"
  }
 },
 "nbformat": 4,
 "nbformat_minor": 2
}
